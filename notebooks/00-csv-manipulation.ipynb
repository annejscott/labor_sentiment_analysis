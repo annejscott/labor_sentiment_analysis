{
 "cells": [
  {
   "cell_type": "code",
   "execution_count": 19,
   "metadata": {},
   "outputs": [],
   "source": [
    "# libraries\n",
    "import re\n",
    "import pandas as pd"
   ]
  },
  {
   "cell_type": "code",
   "execution_count": 20,
   "metadata": {},
   "outputs": [],
   "source": [
    "# combine csv files\n",
    "posts1 = pd.read_csv(\n",
    "    \"/Users/seshat/Documents/GitHub/labor_sentiment_analysis/data/raw/posts1.csv\"\n",
    ")\n",
    "posts2 = pd.read_csv(\n",
    "    \"/Users/seshat/Documents/GitHub/labor_sentiment_analysis/data/raw/posts2.csv\"\n",
    ")\n",
    "posts = pd.concat([posts1, posts2], ignore_index=True)\n",
    "\n",
    "comments1 = pd.read_csv(\n",
    "    \"/Users/seshat/Documents/GitHub/labor_sentiment_analysis/data/raw/comments1.csv\"\n",
    ")\n",
    "comments2 = pd.read_csv(\n",
    "    \"/Users/seshat/Documents/GitHub/labor_sentiment_analysis/data/raw/comments2.csv\"\n",
    ")\n",
    "comments = pd.concat([comments1, comments2], ignore_index=True)\n",
    "comments = comments.drop_duplicates()"
   ]
  },
  {
   "cell_type": "code",
   "execution_count": 21,
   "metadata": {},
   "outputs": [],
   "source": [
    "# clean\n",
    "posts = posts.drop_duplicates(keep=\"first\")\n"
   ]
  },
  {
   "cell_type": "code",
   "execution_count": 22,
   "metadata": {},
   "outputs": [],
   "source": [
    "posts[\"text\"] = posts[\"title\"].fillna(\"\") + \" \" + posts[\"content\"].fillna(\"\")\n",
    "posts = posts[[\"subreddit\", \"post_id\", \"text\", \"score\", \"created\"]]"
   ]
  },
  {
   "cell_type": "code",
   "execution_count": 23,
   "metadata": {},
   "outputs": [],
   "source": [
    "comments = comments.drop_duplicates(keep=\"first\")"
   ]
  },
  {
   "cell_type": "code",
   "execution_count": 24,
   "metadata": {},
   "outputs": [],
   "source": [
    "comments = comments[[\"subreddit\", \"post_id\", \"content\", \"score\", \"created\"]]\n",
    "comments = comments.rename(columns={\"content\": \"text\"})"
   ]
  },
  {
   "cell_type": "code",
   "execution_count": 25,
   "metadata": {},
   "outputs": [],
   "source": [
    "# combine \n",
    "reddit = pd.concat([posts, comments], ignore_index=True)"
   ]
  },
  {
   "cell_type": "code",
   "execution_count": 26,
   "metadata": {},
   "outputs": [],
   "source": [
    "def clean_text(text):\n",
    "    \"\"\"Makes text lowercase, removes special characters, and removes extra spaces.\"\"\"\n",
    "    if isinstance(text, str):  # Ensure the text is a string\n",
    "        # Lowercase\n",
    "        text = text.lower()\n",
    "        # Remove special characters\n",
    "        text = re.sub(r\"[^a-z\\s]\", \"\", text)\n",
    "        # Remove extra spaces\n",
    "        text = re.sub(r\"\\s+\", \" \", text).strip()\n",
    "    else:\n",
    "        text = \"\"\n",
    "    return text"
   ]
  },
  {
   "cell_type": "code",
   "execution_count": 27,
   "metadata": {},
   "outputs": [],
   "source": [
    "# clean\n",
    "reddit[\"text\"] = reddit[\"text\"].apply(clean_text)"
   ]
  },
  {
   "cell_type": "code",
   "execution_count": 28,
   "metadata": {},
   "outputs": [],
   "source": [
    "# datetime column\n",
    "# Convert the 'created' column to datetime\n",
    "reddit = reddit.rename(columns={\"created\": \"datetime\"})\n",
    "reddit[\"datetime\"] = pd.to_datetime(reddit[\"datetime\"])"
   ]
  },
  {
   "cell_type": "code",
   "execution_count": 29,
   "metadata": {},
   "outputs": [],
   "source": [
    "reddit[\"year\"] = reddit[\"datetime\"].dt.year\n",
    "reddit[\"month\"] = reddit[\"datetime\"].dt.month\n",
    "reddit[\"day\"] = reddit[\"datetime\"].dt.day\n",
    "\n",
    "reddit = reddit[[\"subreddit\", \"post_id\", \"text\", \"score\", \"year\", \"month\", \"day\"]]"
   ]
  },
  {
   "cell_type": "code",
   "execution_count": 30,
   "metadata": {},
   "outputs": [],
   "source": [
    "reddit = reddit.fillna(\"\")"
   ]
  },
  {
   "cell_type": "code",
   "execution_count": 31,
   "metadata": {},
   "outputs": [],
   "source": [
    "# filter text for keywords\n",
    "keywords = [\"union\", \"strike\"]\n",
    "pattern = \"|\".join(keywords)\n",
    "\n",
    "reddit = reddit[reddit[\"text\"].str.contains(pattern, case=False, na=False)]"
   ]
  },
  {
   "cell_type": "code",
   "execution_count": 32,
   "metadata": {},
   "outputs": [
    {
     "name": "stdout",
     "output_type": "stream",
     "text": [
      "Total rows available: 1322\n",
      "Final sampled_reddit size: 1322\n"
     ]
    },
    {
     "name": "stderr",
     "output_type": "stream",
     "text": [
      "/var/folders/nx/hb3zcj293r197l8g8x2s58900000gn/T/ipykernel_19716/3004898917.py:5: DeprecationWarning: DataFrameGroupBy.apply operated on the grouping columns. This behavior is deprecated, and in a future version of pandas the grouping columns will be excluded from the operation. Either pass `include_groups=False` to exclude the groupings or explicitly select the grouping columns after groupby to silence this warning.\n",
      "  .apply(lambda x: x.sample(n=min(len(x), 100), random_state=42))\n"
     ]
    }
   ],
   "source": [
    "# Stratified sampling by subreddit\n",
    "reddit = reddit.dropna(subset=[\"subreddit\"])\n",
    "reddit_sampled = (\n",
    "    reddit.groupby(\"subreddit\", group_keys=False)\n",
    "    .apply(lambda x: x.sample(n=min(len(x), 100), random_state=42))\n",
    "    .reset_index(drop=True)\n",
    ")\n",
    "\n",
    "# Check if enough rows exist for final sampling\n",
    "if len(reddit_sampled) >= 2000:\n",
    "    # Randomly sample 2000 rows\n",
    "    reddit_sampled = reddit_sampled.sample(n=2000, random_state=42)\n",
    "else:\n",
    "    # Sample all rows if less than 2000 are available\n",
    "    print(f\"Total rows available: {len(reddit_sampled)}\")\n",
    "    reddit_sampled = reddit_sampled.sample(n=len(reddit_sampled), random_state=42)\n",
    "\n",
    "print(f\"Final sampled_reddit size: {len(reddit_sampled)}\")"
   ]
  },
  {
   "cell_type": "code",
   "execution_count": 33,
   "metadata": {},
   "outputs": [],
   "source": [
    "# export data\n",
    "reddit_sampled.to_csv(\n",
    "    \"/Users/seshat/Documents/GitHub/labor_sentiment_analysis/data/train/reddit_train.csv\",\n",
    "    index=False,\n",
    ")\n",
    "\n",
    "reddit.to_csv(\n",
    "    \"/Users/seshat/Documents/GitHub/labor_sentiment_analysis/data/master/reddit.csv\",\n",
    "    index=False,\n",
    ")\n",
    "\n",
    "posts.to_csv(\n",
    "    \"/Users/seshat/Documents/GitHub/labor_sentiment_analysis/data/master/posts.csv\",\n",
    "    index=False,\n",
    ")\n",
    "\n",
    "comments.to_csv(\n",
    "    \"/Users/seshat/Documents/GitHub/labor_sentiment_analysis/data/master/comments.csv\",\n",
    "    index=False,\n",
    ")"
   ]
  }
 ],
 "metadata": {
  "kernelspec": {
   "display_name": "venv",
   "language": "python",
   "name": "python3"
  },
  "language_info": {
   "codemirror_mode": {
    "name": "ipython",
    "version": 3
   },
   "file_extension": ".py",
   "mimetype": "text/x-python",
   "name": "python",
   "nbconvert_exporter": "python",
   "pygments_lexer": "ipython3",
   "version": "3.11.7"
  }
 },
 "nbformat": 4,
 "nbformat_minor": 2
}
